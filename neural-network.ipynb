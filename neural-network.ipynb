{
 "cells": [
  {
   "cell_type": "markdown",
   "metadata": {
    "collapsed": true,
    "deletable": true,
    "editable": true
   },
   "source": [
    "First we import the required python libraries for this notebook. "
   ]
  },
  {
   "cell_type": "code",
   "execution_count": 1,
   "metadata": {
    "collapsed": true,
    "deletable": true,
    "editable": true
   },
   "outputs": [],
   "source": [
    "import numpy as np\n",
    "import scipy.io\n",
    "import matplotlib.pyplot as plt\n",
    "import random"
   ]
  },
  {
   "cell_type": "markdown",
   "metadata": {
    "deletable": true,
    "editable": true
   },
   "source": [
    "In order to begin our analysis, we need to obtain the EMNIST data contained in the matlab.zip file found at <a href=\"https://www.nist.gov/itl/iad/image-group/emnist-dataset\"> nist.gov </a>. We unzip this file so that the emnist-digits.mat file is present in the working directory.\n",
    "\n",
    "We use scipy to load the EMNIST data. "
   ]
  },
  {
   "cell_type": "code",
   "execution_count": 2,
   "metadata": {
    "collapsed": true,
    "deletable": true,
    "editable": true
   },
   "outputs": [],
   "source": [
    "emnist_digits = scipy.io.loadmat('emnist-digits.mat')"
   ]
  },
  {
   "cell_type": "markdown",
   "metadata": {
    "deletable": true,
    "editable": true
   },
   "source": [
    "From our loaded data, we extract the relevant data. The list `digit_images` will contain 240,000 elements corresponding to 240,000 images of handwritten digits data. Each of the elements in `digit_images` is itself a list of length 784 that contains the data of the 784 pixels that comprise each digit image.\n",
    "\n",
    "The list `digit_labels` will be a list of length 240,000 that is the actual number represent by the corresponding image in `digit_images`."
   ]
  },
  {
   "cell_type": "code",
   "execution_count": 3,
   "metadata": {
    "collapsed": false,
    "deletable": true,
    "editable": true
   },
   "outputs": [],
   "source": [
    "digit_images = emnist_digits['dataset'][0][0][0][0][0][0]\n",
    "digit_labels = [x[0] for x in emnist_digits['dataset'][0][0][0][0][0][1]]"
   ]
  },
  {
   "cell_type": "markdown",
   "metadata": {
    "deletable": true,
    "editable": true
   },
   "source": [
    "In a similar fashion, we create the lists `test_digit_images` and `test_digit_labels` that correspond to the 40,000 digits in our test data. "
   ]
  },
  {
   "cell_type": "code",
   "execution_count": 4,
   "metadata": {
    "collapsed": false,
    "deletable": true,
    "editable": true
   },
   "outputs": [],
   "source": [
    "test_digit_images = emnist_digits['dataset'][0][0][1][0][0][0]\n",
    "test_digit_labels = [x[0] for x in emnist_digits['dataset'][0][0][1][0][0][1]]"
   ]
  },
  {
   "cell_type": "markdown",
   "metadata": {
    "deletable": true,
    "editable": true
   },
   "source": [
    "Each pixel in `digit_images` and `test_digit_images` is a gray-scale number from 0 to 255. It is easiest if we scale this data so that each pixel is between 0 and 1. To do this, we divide each of the elements in `digit_images` and `test_images` by 255. "
   ]
  },
  {
   "cell_type": "code",
   "execution_count": 5,
   "metadata": {
    "collapsed": true,
    "deletable": true,
    "editable": true
   },
   "outputs": [],
   "source": [
    "digit_images = np.asarray(digit_images, dtype=np.float32)/255\n",
    "test_digit_images = np.asarray(test_digit_images, dtype=np.float32)/255"
   ]
  },
  {
   "cell_type": "markdown",
   "metadata": {
    "deletable": true,
    "editable": true
   },
   "source": [
    "We want to see if we loaded the data correctly. To do this we have a look at the 1000th digit."
   ]
  },
  {
   "cell_type": "code",
   "execution_count": 19,
   "metadata": {
    "collapsed": false,
    "deletable": true,
    "editable": true
   },
   "outputs": [
    {
     "name": "stdout",
     "output_type": "stream",
     "text": [
      "The digit with index 999 in our test data should be a 7.\n"
     ]
    }
   ],
   "source": [
    "identification = 999\n",
    "actual_number = test_digit_labels[identification]\n",
    " \n",
    "print \"The digit with index %s in our test data should be a %s.\" %(identification, actual_number)"
   ]
  },
  {
   "cell_type": "markdown",
   "metadata": {
    "deletable": true,
    "editable": true
   },
   "source": [
    "We need reshape this image data so that instead of it being a list of length 784, it is as 28 x 28 array. We use NumPy's `reshape` to create this array. We need to use `order='F'` in order for the data to be displayed in the correct orientation. "
   ]
  },
  {
   "cell_type": "code",
   "execution_count": 49,
   "metadata": {
    "collapsed": false,
    "deletable": true,
    "editable": true
   },
   "outputs": [
    {
     "data": {
      "image/png": "[encoded data removed]",
      "text/plain": [
       "<matplotlib.figure.Figure at 0x7fc499ef9c90>"
      ]
     },
     "metadata": {},
     "output_type": "display_data"
    }
   ],
   "source": [
    "data = test_digit_images[identification]\n",
    "image_data = data.reshape(28, 28, order='F')\n",
    "\n",
    "plt.gray()\n",
    "plt.imshow(image_data, interpolation='none')\n",
    "plt.title('A human has told \\n us that this is a %s \\n' %actual_number, fontsize=15)\n",
    "plt.show()"
   ]
  },
  {
   "cell_type": "markdown",
   "metadata": {
    "collapsed": true,
    "deletable": true,
    "editable": true
   },
   "source": [
    "Having loaded the EMNIST data, we are in a position to create a neural network to analyse it.\n",
    "\n",
    "To do this we create a `NeuralNetwork` class. Each neural network will be initialised with the list `layers`. This list will contain the number of neurons in each layer. For example, the object:\n",
    "\n",
    "`a = NeuralNetwork(layers = [4,3,2])` \n",
    "\n",
    "will contain 4 neurons in the 0th layer, 3 neurons in the 1st layer and 2 neurons in the 2nd layer. \n",
    "\n",
    "Each `NeuralNetwork` instance will also need to be intialised with `weights`, `biases`, `activations` and `deltas`. \n",
    "\n",
    "Both the `activations` and `deltas` will be lists with the same length as the number of layers. Each element in these lists will be initialised to an appropriate zero column vector. For example, a neural network initialised with `layers = [4,3,2]` could have:\n",
    "\n",
    "$ \\mbox{activations} = \\left( \\underbrace{\\begin{bmatrix} 0 \\\\ 0 \\\\ 0 \\\\ 0\\end{bmatrix}, \\begin{bmatrix} 0 \\\\ 0\\\\ 0\\end{bmatrix}, \\begin{bmatrix} 0 \\\\ 0 \\end{bmatrix}}_{\\mbox{number of layers}} \\right)$\n",
    "\n",
    "\n"
   ]
  },
  {
   "cell_type": "markdown",
   "metadata": {},
   "source": [
    "The `biases` will be initialised with random normally distrubted values. For example, a neural network initialised with `layers = [4,3,2]` could have:\n",
    "\n",
    "\n",
    "$ \\mbox{biases} = \\left( \\underbrace{\\begin{bmatrix} -0.23517805 \\\\ -0.0274411 \\\\ 0.86693116 \\\\ 1.63671622\\end{bmatrix}, \\begin{bmatrix} -2.19653105 \\\\ 1.41777237\\\\ 0.49982226\\end{bmatrix}, \\begin{bmatrix} -0.82112515 \\\\ 0.65460335 \\end{bmatrix}}_{\\mbox{number of layers}} \\right)$"
   ]
  },
  {
   "cell_type": "markdown",
   "metadata": {},
   "source": [
    "We use the notation from <a href='http://neuralnetworksanddeeplearning.com/chap2.html'>Neural Networks and Deep Learning</a> so that $w^l_{jk}$ represent the weight of the $k$th neuron in the $(l-1)$th layer to the $j$th neuron in the $l$th layer. \n",
    "\n",
    "Our `weights` will be a list. For example, a neural network initialised with `layers = [4,3,2]` could have:\n",
    "\n",
    "$ \\mbox{weights} = \\left( \\underbrace{[], \\scriptsize \\begin{bmatrix} 1.68409525 & 0.23314265 & 1.32528275 & -0.46492337 \\\\ 0.79449842 & 0.74707181 & 0.50216752 & 1.07123871 \\\\ 1.70751973 & 0.92005992 & 0.74187835 & 1.44667628 \\end{bmatrix}, \\begin{bmatrix}-1.96203677 & 0.78321492 & 0.18024262 \\\\  0.74463795 & 1.40177271 & -1.10609429 \\end{bmatrix}}_{\\mbox{number of layers}} \\right)$\n",
    "\n",
    "Note that the 0th element of the `weights` list is always `[]`.\n"
   ]
  },
  {
   "cell_type": "code",
   "execution_count": 8,
   "metadata": {
    "collapsed": true,
    "deletable": true,
    "editable": true
   },
   "outputs": [],
   "source": [
    "class NeuralNetwork:\n",
    "    \n",
    "    def __init__(self, layers):\n",
    "        \n",
    "        self.layers = layers\n",
    "                \n",
    "        self.weights = [[]] + [np.random.randn(layers[x], layers[x-1]) for x in range(1,len(layers))] \n",
    "        self.biases = [np.random.randn(x, 1) for x in layers]\n",
    "        self.activations = [np.zeros((x, 1)) for x in layers]\n",
    "        \n",
    "        self.deltas = [np.zeros((x, 1)) for x in layers]"
   ]
  },
  {
   "cell_type": "markdown",
   "metadata": {},
   "source": [
    "We define both the `sigmoid` and `sigmoid_derivative` functions that will be essential later.  "
   ]
  },
  {
   "cell_type": "code",
   "execution_count": 9,
   "metadata": {
    "collapsed": true
   },
   "outputs": [],
   "source": [
    "def sigmoid(z):\n",
    "    \n",
    "    return 1/(1+np.exp(-z))\n",
    "\n",
    "def sigmoid_derivative(z):\n",
    "    \n",
    "    return sigmoid(z)*(1-sigmoid(z))\n",
    "\n"
   ]
  },
  {
   "cell_type": "markdown",
   "metadata": {
    "collapsed": true,
    "deletable": true,
    "editable": true
   },
   "source": [
    "We define a `feed_forward` class method to our `NeuralNetwork` class. The `feed_forward` class method will take an `input` list that represents the initial activations of the 0th layer.\n",
    "\n",
    "The activations of the other layers are calculated as $a^l = \\sigma (w^l a^{l-1} + b^l)$ for $l=1,2,3...,L$"
   ]
  },
  {
   "cell_type": "code",
   "execution_count": 10,
   "metadata": {
    "collapsed": false
   },
   "outputs": [],
   "source": [
    "def feed_forward(self, input):\n",
    "    \n",
    "    # Check to see if the number of elements in the input is the same as the number\n",
    "    # of neurons in the first layer.\n",
    "    if len(input) != len(self.activations[0]):\n",
    "        raise ValueError('The number of elements in the input is not the same as the number of neurons in the 0th layer!') \n",
    "        \n",
    "    self.activations[0] = np.asarray([input]).T \n",
    "        \n",
    "    self.weighted_outputs = [[]]\n",
    "                      \n",
    "    for x in range(1, len(self.layers)):\n",
    "            \n",
    "        z = np.dot(self.weights[x], self.activations[x-1]) + self.biases[x]\n",
    "        self.weighted_outputs.append(z)\n",
    "            \n",
    "        self.activations[x] = sigmoid(z)                      \n",
    "                       \n",
    "    return\n",
    "\n",
    "# Add the feed_forward function to the NeuralNetwork class.\n",
    "NeuralNetwork.feed_forward = feed_forward"
   ]
  },
  {
   "cell_type": "markdown",
   "metadata": {},
   "source": [
    "We create the function `digit_to_desired_output` that turns a digit into an array of what the activations of the last layer should be. For example:\n",
    "\n",
    "`digit_to_desired_output(2)`$ = \\begin{bmatrix} 0 \\\\ 0 \\\\ 1 \\\\ 0 \\\\ 0 \\\\ 0  \\\\ 0 \\\\ 0 \\\\ 0 \\\\ 0 \\end{bmatrix}$"
   ]
  },
  {
   "cell_type": "code",
   "execution_count": 11,
   "metadata": {
    "collapsed": true
   },
   "outputs": [],
   "source": [
    "def digit_to_desired_output(digit):\n",
    "    \n",
    "    desired_output = np.zeros((10,1))\n",
    "    desired_output[digit] = [1]\n",
    "    \n",
    "    return desired_output"
   ]
  },
  {
   "cell_type": "markdown",
   "metadata": {},
   "source": [
    "We add a `back_propagate` class method to our `NeuralNetwork` class. The `back_propagate` function takes an array:\n",
    "\n",
    "`desired_output`$ =y$ and first determines the error, $\\delta^L$, in the last layer according to:\n",
    "\n",
    "$\\delta^L = (a^L - y) \\odot \\sigma'(z^L)$\n",
    "\n",
    "It then backpropagates this error according to the equation:\n",
    "\n",
    "$ \\delta^l = \\left( {\\left( w^{l+1} \\right)}^T \\delta^{l+1} \\right) \\odot \\sigma'(z^l) $\n",
    "\n",
    "for $l=L-1, L-2, ..., 1$\n",
    "\n"
   ]
  },
  {
   "cell_type": "code",
   "execution_count": 12,
   "metadata": {
    "collapsed": true
   },
   "outputs": [],
   "source": [
    "def back_propagate(self, desired_output):\n",
    "        \n",
    "    self.deltas[-1] = (self.activations[-1] - desired_output) * sigmoid_derivative(self.weighted_outputs[-1])\n",
    "        \n",
    "    for x in range(1, len(self.layers)-1)[::-1]:\n",
    "            \n",
    "        self.deltas[x] = np.dot(self.weights[x+1].T, self.deltas[x+1]) * sigmoid_derivative(self.weighted_outputs[x])\n",
    "\n",
    "# Add the back_propagate function to the NeuralNetwork class.\n",
    "NeuralNetwork.back_propagate = back_propagate\n",
    "        "
   ]
  },
  {
   "cell_type": "markdown",
   "metadata": {},
   "source": [
    "We next need to create and `update_network` class method for our `NeuralNetwork` class that updates the `biases` and `weights`. \n",
    "\n",
    "The `biases` and `weights` will be updated using a gradient descent method with a mini-batch size of one. The weights will be updated according to the rule:\n",
    "\n",
    "$w^l \\rightarrow w^l - \\eta \\cdot \\delta^l {\\left(a^{l-1} \\right)}^T$\n",
    "\n",
    "The biases will be updated according to the rule:\n",
    "\n",
    "$b^l \\rightarrow b^l - \\eta \\cdot \\delta^l$\n",
    "\n",
    "In both the equations above, $\\eta$ is a small positive parameter called the learning rate."
   ]
  },
  {
   "cell_type": "code",
   "execution_count": 13,
   "metadata": {
    "collapsed": true
   },
   "outputs": [],
   "source": [
    "def update_network(self, eta):\n",
    "        \n",
    "    for x in range(1, len(self.layers))[::-1]:\n",
    "        \n",
    "        self.biases[x] = self.biases[x] - eta*self.deltas[x]\n",
    "        self.weights[x] = self.weights[x] - eta*self.deltas[x]*(self.activations[x-1].T) \n",
    "        \n",
    "    return\n",
    "\n",
    "# Add the back_propagate function to the NeuralNetwork class.\n",
    "NeuralNetwork.update_network = update_network"
   ]
  },
  {
   "cell_type": "markdown",
   "metadata": {},
   "source": [
    "We are in a position now to begin training our neural network.\n",
    "\n",
    "As in <a href='http://neuralnetworksanddeeplearning.com/chap2.html'>Neural Networks and Deep Learning</a> we define a neural network with the 0th layer having 784 neurons representing the 784 individual pixels. We have a 1st layer of 30 neurons. Since there are ten digits, our 2nd and last layer will have 10 neurons in it."
   ]
  },
  {
   "cell_type": "code",
   "execution_count": 14,
   "metadata": {
    "collapsed": false
   },
   "outputs": [],
   "source": [
    "network = NeuralNetwork([784,30,10])"
   ]
  },
  {
   "cell_type": "markdown",
   "metadata": {},
   "source": [
    "We create a function `shuffle_order` that shuffles the order of the training data:"
   ]
  },
  {
   "cell_type": "code",
   "execution_count": 15,
   "metadata": {
    "collapsed": true
   },
   "outputs": [],
   "source": [
    "def shuffle_order(digit_images, digit_labels):\n",
    "    \n",
    "    randomise_data = zip(digit_images, digit_labels)\n",
    "    random.shuffle(randomise_data)\n",
    "    digit_images, digit_labels = zip(*randomise_data) \n",
    "    \n",
    "    return digit_images, digit_labels"
   ]
  },
  {
   "cell_type": "markdown",
   "metadata": {},
   "source": [
    "We will create a function called `test` that tests the neural network that we will train. "
   ]
  },
  {
   "cell_type": "code",
   "execution_count": 16,
   "metadata": {
    "collapsed": true
   },
   "outputs": [],
   "source": [
    "def test(network, test_digit_images, test_digit_labels):\n",
    "\n",
    "    number_of_checks = 0\n",
    "    number_of_successes = 0\n",
    "\n",
    "    for i in range(len(test_digit_images)):\n",
    "        input = test_digit_images[i]\n",
    "        network.feed_forward(input)\n",
    "    \n",
    "        desired_output = digit_to_desired_output(test_digit_labels[i])        \n",
    "       \n",
    "        if np.argmax(network.activations[-1]) == test_digit_labels[i]:\n",
    "            number_of_successes = number_of_successes + 1\n",
    "        \n",
    "        number_of_checks = number_of_checks + 1\n",
    "      \n",
    "    success_rate = (float(number_of_successes) / number_of_checks)*100\n",
    "\n",
    "    return success_rate"
   ]
  },
  {
   "cell_type": "markdown",
   "metadata": {},
   "source": [
    "We will train our neural network over 30 epochs with a eta value of 0.1. "
   ]
  },
  {
   "cell_type": "code",
   "execution_count": 18,
   "metadata": {
    "collapsed": false
   },
   "outputs": [
    {
     "name": "stdout",
     "output_type": "stream",
     "text": [
      "Starting Epoch 0\n",
      "Success rate was 94.7025 percent\n",
      "Starting Epoch 1\n",
      "Success rate was 95.1925 percent\n",
      "Starting Epoch 2\n",
      "Success rate was 95.6 percent\n",
      "Starting Epoch 3\n",
      "Success rate was 95.7125 percent\n",
      "Starting Epoch 4\n",
      "Success rate was 95.8175 percent\n",
      "Starting Epoch 5\n",
      "Success rate was 95.84 percent\n",
      "Starting Epoch 6\n",
      "Success rate was 96.14 percent\n",
      "Starting Epoch 7\n",
      "Success rate was 96.1525 percent\n",
      "Starting Epoch 8\n",
      "Success rate was 96.45 percent\n",
      "Starting Epoch 9\n",
      "Success rate was 96.515 percent\n",
      "Starting Epoch 10\n",
      "Success rate was 96.375 percent\n",
      "Starting Epoch 11\n",
      "Success rate was 96.555 percent\n",
      "Starting Epoch 12\n",
      "Success rate was 96.64 percent\n",
      "Starting Epoch 13\n",
      "Success rate was 96.6925 percent\n",
      "Starting Epoch 14\n",
      "Success rate was 96.78 percent\n",
      "Starting Epoch 15\n",
      "Success rate was 96.7125 percent\n",
      "Starting Epoch 16\n",
      "Success rate was 96.765 percent\n",
      "Starting Epoch 17\n",
      "Success rate was 96.84 percent\n",
      "Starting Epoch 18\n",
      "Success rate was 96.7775 percent\n",
      "Starting Epoch 19\n",
      "Success rate was 96.84 percent\n",
      "Starting Epoch 20\n",
      "Success rate was 96.9 percent\n",
      "Starting Epoch 21\n",
      "Success rate was 96.935 percent\n",
      "Starting Epoch 22\n",
      "Success rate was 96.855 percent\n",
      "Starting Epoch 23\n",
      "Success rate was 96.9625 percent\n",
      "Starting Epoch 24\n",
      "Success rate was 96.9775 percent\n",
      "Starting Epoch 25\n",
      "Success rate was 96.9375 percent\n",
      "Starting Epoch 26\n",
      "Success rate was 96.895 percent\n",
      "Starting Epoch 27\n",
      "Success rate was 97.045 percent\n",
      "Starting Epoch 28\n",
      "Success rate was 97.0 percent\n",
      "Starting Epoch 29\n",
      "Success rate was 97.0575 percent\n"
     ]
    }
   ],
   "source": [
    "eta = 0.1\n",
    "epochs = 30\n",
    "test_data = True \n",
    "\n",
    "\n",
    "for i in range(epochs):\n",
    "    \n",
    "    print \"Starting Epoch %s\" %i\n",
    "    \n",
    "    digit_images, digit_labels = shuffle_order(digit_images, digit_labels) \n",
    "    \n",
    "    for j in range(len(digit_images)):\n",
    "        \n",
    "        input = digit_images[j]\n",
    "        network.feed_forward(input)\n",
    "    \n",
    "        desired_output = digit_to_desired_output(digit_labels[j])\n",
    "    \n",
    "        network.back_propagate(desired_output)\n",
    "    \n",
    "        \n",
    "        network.update_network(eta)\n",
    "        \n",
    "    if test_data:\n",
    "        \n",
    "        success_rate = test(network, test_digit_images, test_digit_labels) \n",
    "        print \"Success rate was %s percent\" %success_rate"
   ]
  },
  {
   "cell_type": "markdown",
   "metadata": {},
   "source": [
    "As an interesting conclusion, we look to see if our neural network can correctly predict the 1000th test data digit. "
   ]
  },
  {
   "cell_type": "code",
   "execution_count": 44,
   "metadata": {
    "collapsed": false
   },
   "outputs": [
    {
     "data": {
      "image/png": "[encoded data removed]",
      "text/plain": [
       "<matplotlib.figure.Figure at 0x7fc49a6f1090>"
      ]
     },
     "metadata": {},
     "output_type": "display_data"
    }
   ],
   "source": [
    "identification = 999\n",
    "\n",
    "input = test_digit_images[identification]\n",
    "network.feed_forward(input)\n",
    "prediction = np.argmax(network.activations[-1])\n",
    "\n",
    "image_data = input.reshape(28, 28, order='F')\n",
    "\n",
    "plt.gray()\n",
    "plt.imshow(image_data, interpolation='none')\n",
    "plt.title('Our neural network has \\n predicted this number to be %s \\n' %prediction, fontsize=15)\n",
    "plt.show()\n"
   ]
  },
  {
   "cell_type": "markdown",
   "metadata": {},
   "source": [
    "As we can see, the neural network that we created has correctly predicted this number to be 7."
   ]
  },
  {
   "cell_type": "code",
   "execution_count": null,
   "metadata": {
    "collapsed": true
   },
   "outputs": [],
   "source": []
  }
 ],
 "metadata": {
  "kernelspec": {
   "display_name": "Python 2",
   "language": "python",
   "name": "python2"
  },
  "language_info": {
   "codemirror_mode": {
    "name": "ipython",
    "version": 2
   },
   "file_extension": ".py",
   "mimetype": "text/x-python",
   "name": "python",
   "nbconvert_exporter": "python",
   "pygments_lexer": "ipython2",
   "version": "2.7.12"
  }
 },
 "nbformat": 4,
 "nbformat_minor": 2
}
